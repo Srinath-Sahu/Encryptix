{
  "cells": [
    {
      "cell_type": "markdown",
      "metadata": {
        "collapsed": false,
        "id": "YgaKB5M38LA5"
      },
      "source": [
        "# Task : 1 Titanic Survival Prediction\n",
        "**SRINATH SAHU**\n"
      ]
    },
    {
      "cell_type": "code",
      "execution_count": null,
      "metadata": {
        "id": "coi935Jk8LA8"
      },
      "outputs": [],
      "source": [
        "import pandas as pd\n",
        "import numpy as np\n",
        "import matplotlib.pyplot as plt"
      ]
    },
    {
      "cell_type": "code",
      "execution_count": null,
      "metadata": {
        "id": "x9Ok5umV8LA9"
      },
      "outputs": [],
      "source": [
        "titanic_data = pd.read_csv(\"Titanic-Encryptix.csv\")\n",
        "titanic_data"
      ]
    },
    {
      "cell_type": "code",
      "execution_count": null,
      "metadata": {
        "id": "MxOLUG6r8LA-"
      },
      "outputs": [],
      "source": [
        "titanic_data.head()"
      ]
    },
    {
      "cell_type": "code",
      "execution_count": null,
      "metadata": {
        "id": "FQVId-498LA-"
      },
      "outputs": [],
      "source": [
        "titanic_data.info()"
      ]
    },
    {
      "cell_type": "code",
      "execution_count": null,
      "metadata": {
        "id": "ggA9iEeq8LA-"
      },
      "outputs": [],
      "source": [
        "titanic_data.describe()"
      ]
    },
    {
      "cell_type": "code",
      "execution_count": null,
      "metadata": {
        "id": "fvcufRS48LA-"
      },
      "outputs": [],
      "source": [
        "titanic_data.isnull().sum()"
      ]
    },
    {
      "cell_type": "markdown",
      "metadata": {
        "collapsed": false,
        "id": "jxOdGBAq8LA_"
      },
      "source": [
        "### Age and Cabin has Null values or blank....\n",
        "\n"
      ]
    },
    {
      "cell_type": "code",
      "execution_count": null,
      "metadata": {
        "id": "a7NQ-K1o8LA_"
      },
      "outputs": [],
      "source": [
        "#  we will fill blank with median value\n",
        "titanic_data['Age'].fillna(titanic_data['Age'].median(), inplace=True)"
      ]
    },
    {
      "cell_type": "code",
      "execution_count": null,
      "metadata": {
        "id": "PKMnKcJW8LA_"
      },
      "outputs": [],
      "source": [
        "# Count the Embarked\n",
        "titanic_data['Embarked'].value_counts()"
      ]
    },
    {
      "cell_type": "code",
      "execution_count": null,
      "metadata": {
        "id": "cSunODQm8LA_"
      },
      "outputs": [],
      "source": [
        "# replace blanks with mode value\n",
        "titanic_data['Embarked'].fillna('S', inplace=True)"
      ]
    },
    {
      "cell_type": "code",
      "execution_count": null,
      "metadata": {
        "id": "tiH1HjGT8LBA"
      },
      "outputs": [],
      "source": [
        "# check Null value in data\n",
        "titanic_data.isnull().sum()"
      ]
    },
    {
      "cell_type": "code",
      "execution_count": null,
      "metadata": {
        "id": "hUeExSg38LBA"
      },
      "outputs": [],
      "source": [
        "# In fare column has also null value, replace with  median\n",
        "titanic_data['Fare'].fillna(titanic_data['Fare'].median(), inplace=True)"
      ]
    },
    {
      "cell_type": "code",
      "execution_count": null,
      "metadata": {
        "id": "eh-emLOG8LBA"
      },
      "outputs": [],
      "source": [
        "# We will remove the \"Cabin\" column because it contains a significant number of missing values.\n",
        "titanic_data.drop(columns=\"Cabin\", inplace=True)"
      ]
    },
    {
      "cell_type": "code",
      "execution_count": null,
      "metadata": {
        "id": "OF_UNf5s8LBA"
      },
      "outputs": [],
      "source": [
        "# Last check null value and Dataset\n",
        "print(titanic_data.isnull().sum())\n",
        "print(titanic_data.head())"
      ]
    },
    {
      "cell_type": "markdown",
      "metadata": {
        "collapsed": false,
        "id": "46xEoDdA8LBB"
      },
      "source": [
        "## Now Data is Cleaned...\n",
        "\n"
      ]
    },
    {
      "cell_type": "markdown",
      "metadata": {
        "collapsed": false,
        "id": "msMrvy2y8LBB"
      },
      "source": [
        "# Exploratory Data Analysis\n",
        "\n",
        "#### survival variable describe as\n",
        "\n",
        "0 = No, 1 = Yes\n",
        "\n"
      ]
    },
    {
      "cell_type": "code",
      "execution_count": null,
      "metadata": {
        "id": "V0TnR5q_8LBB"
      },
      "outputs": [],
      "source": [
        "import seaborn as sns"
      ]
    },
    {
      "cell_type": "code",
      "execution_count": null,
      "metadata": {
        "id": "VTpAfpV08LBB"
      },
      "outputs": [],
      "source": [
        "titanic_data['Survived'].value_counts()"
      ]
    },
    {
      "cell_type": "code",
      "execution_count": null,
      "metadata": {
        "id": "cOVJGynT8LBB"
      },
      "outputs": [],
      "source": [
        "sns.countplot(data=titanic_data,x='Survived')"
      ]
    },
    {
      "cell_type": "code",
      "execution_count": null,
      "metadata": {
        "id": "FTjwyfP88LBC"
      },
      "outputs": [],
      "source": [
        "sns.countplot(data=titanic_data,x='Pclass')"
      ]
    },
    {
      "cell_type": "code",
      "execution_count": null,
      "metadata": {
        "id": "rqP8XGjV8LBC"
      },
      "outputs": [],
      "source": [
        "sns.countplot(data=titanic_data,x='Sex')"
      ]
    },
    {
      "cell_type": "code",
      "execution_count": null,
      "metadata": {
        "id": "6_VlwDmM8LBC"
      },
      "outputs": [],
      "source": [
        "sns.histplot(data=titanic_data, x='Age')\n",
        "plt.show()"
      ]
    },
    {
      "cell_type": "code",
      "execution_count": null,
      "metadata": {
        "id": "D7PIXrK98LBC"
      },
      "outputs": [],
      "source": []
    },
    {
      "cell_type": "markdown",
      "metadata": {
        "collapsed": false,
        "id": "Ayh2rgVN8LBC"
      },
      "source": [
        "## \\# Show count of survival wrt pclass\n",
        "\n"
      ]
    },
    {
      "cell_type": "code",
      "execution_count": null,
      "metadata": {
        "id": "iMenESEX8LBC"
      },
      "outputs": [],
      "source": [
        "sns.countplot(x=titanic_data['Survived'], hue=titanic_data['Pclass'])\n",
        "plt.show()"
      ]
    },
    {
      "cell_type": "markdown",
      "metadata": {
        "collapsed": false,
        "id": "NaDIyWKo8LBC"
      },
      "source": [
        "## \\# Show count of survival wrt gender\n",
        "\n"
      ]
    },
    {
      "cell_type": "code",
      "execution_count": null,
      "metadata": {
        "id": "2Icqp34D8LBD"
      },
      "outputs": [],
      "source": [
        "titanic_data['Sex'].head()"
      ]
    },
    {
      "cell_type": "code",
      "execution_count": null,
      "metadata": {
        "id": "ziDi4pyt8LBD"
      },
      "outputs": [],
      "source": [
        "sns.countplot(x=titanic_data['Survived'], hue=titanic_data['Sex'])\n",
        "plt.show()"
      ]
    },
    {
      "cell_type": "markdown",
      "metadata": {
        "collapsed": false,
        "id": "dk4Gh-I88LBD"
      },
      "source": [
        "### show survival wrt Age\n",
        "\n"
      ]
    },
    {
      "cell_type": "code",
      "execution_count": null,
      "metadata": {
        "id": "8ttYi2eP8LBD"
      },
      "outputs": [],
      "source": [
        "sns.histplot(x=titanic_data['Age'], hue=titanic_data['Survived'], multiple='stack')\n",
        "plt.show()"
      ]
    },
    {
      "cell_type": "code",
      "source": [],
      "metadata": {
        "id": "mi56LC4j9FPa"
      },
      "execution_count": null,
      "outputs": []
    },
    {
      "cell_type": "markdown",
      "metadata": {
        "collapsed": false,
        "id": "gJ8PZsR48LBE"
      },
      "source": [
        "## Featuring Engineering\n",
        "\n"
      ]
    },
    {
      "cell_type": "markdown",
      "metadata": {
        "collapsed": false,
        "id": "t_12LREh8LBE"
      },
      "source": [
        "#### before modeling the data, transform gender\\(Sex\\) into numeric\n",
        "\n",
        "- Male \\- 1\n",
        "- Female \\- 0\n",
        "\n",
        "**Use LabelEncoder from sklearn library**\n",
        "\n"
      ]
    },
    {
      "cell_type": "code",
      "execution_count": null,
      "metadata": {
        "id": "s_TVj6Ad8LBM"
      },
      "outputs": [],
      "source": [
        "from sklearn.preprocessing import LabelEncoder\n",
        "labelencoder = LabelEncoder()\n",
        "titanic_data['Sex'] = labelencoder.fit_transform(titanic_data['Sex'])\n",
        "\n",
        "titanic_data.head()"
      ]
    },
    {
      "cell_type": "code",
      "execution_count": null,
      "metadata": {
        "id": "sdXZJ30h8LBM"
      },
      "outputs": [],
      "source": [
        "sns.countplot(x=titanic_data['Sex'],hue=titanic_data['Survived'])\n",
        "plt.show()"
      ]
    },
    {
      "cell_type": "markdown",
      "metadata": {
        "collapsed": false,
        "id": "afqBLUVE8LBM"
      },
      "source": [
        "#### Drop unneccasey column for modeling\n",
        "\n"
      ]
    },
    {
      "cell_type": "code",
      "execution_count": null,
      "metadata": {
        "collapsed": true,
        "scrolled": true,
        "id": "NaKGfT3L8LBM"
      },
      "outputs": [],
      "source": [
        "titanic_data.drop(columns=[\"PassengerId\",\"Name\",\"SibSp\",\"Parch\",\"Ticket\",\"Fare\",\"Age\", \"Embarked\"],inplace=True)"
      ]
    },
    {
      "cell_type": "code",
      "execution_count": null,
      "metadata": {
        "id": "GRAFeYKM8LBM"
      },
      "outputs": [],
      "source": [
        "titanic_data.head()"
      ]
    },
    {
      "cell_type": "markdown",
      "metadata": {
        "collapsed": false,
        "id": "v81cjNMk8LBM"
      },
      "source": [
        "## Modeling\n",
        "\n"
      ]
    },
    {
      "cell_type": "code",
      "execution_count": null,
      "metadata": {
        "id": "xUpJf-YY8LBN"
      },
      "outputs": [],
      "source": [
        "X=titanic_data[['Sex', 'Pclass']]\n",
        "Y=titanic_data['Survived']"
      ]
    },
    {
      "cell_type": "markdown",
      "metadata": {
        "collapsed": false,
        "id": "pDAvGD0E8LBN"
      },
      "source": [
        "##### Split data into test and train by using Sklearn library\n",
        "\n"
      ]
    },
    {
      "cell_type": "code",
      "execution_count": null,
      "metadata": {
        "id": "gut4xBkQ8LBN"
      },
      "outputs": [],
      "source": [
        "from sklearn.model_selection import train_test_split\n",
        "X_train, X_test, Y_train, Y_test = train_test_split(X,Y,test_size=0.2, random_state=0)"
      ]
    },
    {
      "cell_type": "markdown",
      "metadata": {
        "collapsed": false,
        "id": "imiG6ihf8LBN"
      },
      "source": [
        "#### Create training Model\n",
        "\n"
      ]
    },
    {
      "cell_type": "code",
      "execution_count": null,
      "metadata": {
        "id": "4rZ75V2q8LBN"
      },
      "outputs": [],
      "source": [
        "from sklearn.linear_model import LogisticRegression\n",
        "from sklearn.metrics import accuracy_score,precision_score,confusion_matrix\n",
        "log = LogisticRegression(random_state = 0)\n",
        "log.fit(X_train, Y_train)"
      ]
    },
    {
      "cell_type": "markdown",
      "metadata": {
        "collapsed": false,
        "id": "-5mj_yie8LBN"
      },
      "source": [
        "#### create Prediction model\n",
        "\n"
      ]
    },
    {
      "cell_type": "code",
      "execution_count": null,
      "metadata": {
        "id": "4_OaPk5v8LBN"
      },
      "outputs": [],
      "source": [
        "pred = log.predict(X_test)\n",
        "pred"
      ]
    },
    {
      "cell_type": "code",
      "execution_count": null,
      "metadata": {
        "id": "BBKQgvBp8LBN"
      },
      "outputs": [],
      "source": [
        "print(\"Accuracy_score :\", accuracy_score(Y_test, pred))\n",
        "print(\"Matrix :\",confusion_matrix(Y_test,pred))"
      ]
    },
    {
      "cell_type": "code",
      "execution_count": null,
      "metadata": {
        "id": "6Y-w24mE8LBN"
      },
      "outputs": [],
      "source": [
        "Y_test"
      ]
    },
    {
      "cell_type": "code",
      "execution_count": null,
      "metadata": {
        "id": "h5tZmxQP8LBO"
      },
      "outputs": [],
      "source": [
        "submission=X.iloc[:,:].values\n",
        "y_final=log.predict(submission)"
      ]
    },
    {
      "cell_type": "code",
      "execution_count": null,
      "metadata": {
        "id": "OTsVEMac8LBO"
      },
      "outputs": [],
      "source": [
        "y_final.shape"
      ]
    },
    {
      "cell_type": "code",
      "execution_count": null,
      "metadata": {
        "id": "QyCG5DTF8LBO"
      },
      "outputs": [],
      "source": [
        "final = pd.DataFrame()\n",
        "final[\"Sex\"]= X['Sex']\n",
        "final[\"survived\"]=y_final"
      ]
    },
    {
      "cell_type": "code",
      "execution_count": null,
      "metadata": {
        "id": "4zQALhsD8LBO"
      },
      "outputs": [],
      "source": [
        "final.to_csv(\"submission.csv\",index=False)"
      ]
    },
    {
      "cell_type": "markdown",
      "metadata": {
        "collapsed": false,
        "id": "gaIs1koy8LBP"
      },
      "source": [
        "##### Trainig is completed, now check\n",
        "\n"
      ]
    },
    {
      "cell_type": "markdown",
      "metadata": {
        "collapsed": false,
        "id": "JybMQIqt8LBP"
      },
      "source": [
        "#### predict\\(\\[\\[ Pclass, Sex \\]\\]\\) =&gt; survived or not survived\n",
        "\n"
      ]
    },
    {
      "cell_type": "code",
      "execution_count": null,
      "metadata": {
        "id": "v5ca3GjL8LBP"
      },
      "outputs": [],
      "source": [
        "import warnings\n",
        "warnings.filterwarnings(\"ignore\")\n",
        "\n",
        "result = log.predict([[5,0]])\n",
        "if(result == 0):\n",
        "    print(\"So sory, Not Survived\")\n",
        "else:\n",
        "    print(\"Survived\")"
      ]
    },
    {
      "cell_type": "code",
      "execution_count": null,
      "metadata": {
        "id": "BAQ15UjS8LBP"
      },
      "outputs": [],
      "source": []
    }
  ],
  "metadata": {
    "kernelspec": {
      "argv": [
        "/usr/bin/python3",
        "-m",
        "ipykernel",
        "--HistoryManager.enabled=False",
        "--matplotlib=inline",
        "-c",
        "%config InlineBackend.figure_formats = set(['retina'])\nimport matplotlib; matplotlib.rcParams['figure.figsize'] = (12, 7)",
        "-f",
        "{connection_file}"
      ],
      "display_name": "Python 3 (system-wide)",
      "env": {},
      "language": "python",
      "metadata": {
        "cocalc": {
          "description": "Python 3 programming language",
          "priority": 100,
          "url": "https://www.python.org/"
        }
      },
      "name": "python3",
      "resource_dir": "/ext/jupyter/kernels/python3"
    },
    "language_info": {
      "codemirror_mode": {
        "name": "ipython",
        "version": 3
      },
      "file_extension": ".py",
      "mimetype": "text/x-python",
      "name": "python",
      "nbconvert_exporter": "python",
      "pygments_lexer": "ipython3",
      "version": "3.10.12"
    },
    "colab": {
      "provenance": []
    }
  },
  "nbformat": 4,
  "nbformat_minor": 0
}