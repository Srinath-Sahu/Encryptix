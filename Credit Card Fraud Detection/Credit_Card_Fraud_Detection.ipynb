{
  "metadata": {
    "kernelspec": {
      "language": "python",
      "display_name": "Python 3",
      "name": "python3"
    },
    "language_info": {
      "name": "python",
      "version": "3.10.12",
      "mimetype": "text/x-python",
      "codemirror_mode": {
        "name": "ipython",
        "version": 3
      },
      "pygments_lexer": "ipython3",
      "nbconvert_exporter": "python",
      "file_extension": ".py"
    },
    "colab": {
      "provenance": []
    }
  },
  "nbformat_minor": 0,
  "nbformat": 4,
  "cells": [
    {
      "cell_type": "markdown",
      "source": [
        "# Task-3 : CREDIT CARD FRAUD DETECTION\n",
        "**SRINATH SAHU**"
      ],
      "metadata": {
        "id": "JTAfCA_8AyBo"
      }
    },
    {
      "cell_type": "markdown",
      "source": [
        "# 1. Data Collection"
      ],
      "metadata": {
        "id": "xieMfMp6AyBq"
      }
    },
    {
      "cell_type": "code",
      "source": [
        "# Import libraries\n",
        "import numpy as np\n",
        "import pandas as pd\n",
        "import seaborn as sns\n",
        "import matplotlib.pyplot as plt"
      ],
      "metadata": {
        "execution": {
          "iopub.status.busy": "2023-09-29T06:02:43.159598Z",
          "iopub.execute_input": "2023-09-29T06:02:43.159995Z",
          "iopub.status.idle": "2023-09-29T06:02:44.277660Z",
          "shell.execute_reply.started": "2023-09-29T06:02:43.159963Z",
          "shell.execute_reply": "2023-09-29T06:02:44.276846Z"
        },
        "trusted": true,
        "id": "tjx48243AyBq"
      },
      "execution_count": null,
      "outputs": []
    },
    {
      "cell_type": "markdown",
      "source": [
        "## Load and read the data"
      ],
      "metadata": {
        "id": "Grt-SJjqAyBq"
      }
    },
    {
      "cell_type": "code",
      "source": [
        "credit_data = pd.read_csv(\"creditcard.csv\")\n",
        "credit_data.head()"
      ],
      "metadata": {
        "execution": {
          "iopub.status.busy": "2023-09-29T06:02:44.279178Z",
          "iopub.execute_input": "2023-09-29T06:02:44.279582Z",
          "iopub.status.idle": "2023-09-29T06:02:48.577224Z",
          "shell.execute_reply.started": "2023-09-29T06:02:44.279540Z",
          "shell.execute_reply": "2023-09-29T06:02:48.576118Z"
        },
        "trusted": true,
        "id": "BoNbv7UnAyBq"
      },
      "execution_count": null,
      "outputs": []
    },
    {
      "cell_type": "code",
      "source": [
        "credit_data.tail()"
      ],
      "metadata": {
        "execution": {
          "iopub.status.busy": "2023-09-29T06:02:48.579217Z",
          "iopub.execute_input": "2023-09-29T06:02:48.579895Z",
          "iopub.status.idle": "2023-09-29T06:02:48.602890Z",
          "shell.execute_reply.started": "2023-09-29T06:02:48.579855Z",
          "shell.execute_reply": "2023-09-29T06:02:48.601868Z"
        },
        "trusted": true,
        "id": "A9tGbfyUAyBq"
      },
      "execution_count": null,
      "outputs": []
    },
    {
      "cell_type": "code",
      "source": [
        "credit_data.shape"
      ],
      "metadata": {
        "execution": {
          "iopub.status.busy": "2023-09-29T06:02:48.604208Z",
          "iopub.execute_input": "2023-09-29T06:02:48.604679Z",
          "iopub.status.idle": "2023-09-29T06:02:48.617172Z",
          "shell.execute_reply.started": "2023-09-29T06:02:48.604620Z",
          "shell.execute_reply": "2023-09-29T06:02:48.616111Z"
        },
        "trusted": true,
        "id": "Xgru-R1BAyBq"
      },
      "execution_count": null,
      "outputs": []
    },
    {
      "cell_type": "code",
      "source": [
        "# informtion of dataset\n",
        "credit_data.info()"
      ],
      "metadata": {
        "execution": {
          "iopub.status.busy": "2023-09-29T06:02:48.619119Z",
          "iopub.execute_input": "2023-09-29T06:02:48.619513Z",
          "iopub.status.idle": "2023-09-29T06:02:48.662496Z",
          "shell.execute_reply.started": "2023-09-29T06:02:48.619487Z",
          "shell.execute_reply": "2023-09-29T06:02:48.661778Z"
        },
        "trusted": true,
        "id": "QWcCSzz2AyBr"
      },
      "execution_count": null,
      "outputs": []
    },
    {
      "cell_type": "markdown",
      "source": [
        "# 2. Data Processing"
      ],
      "metadata": {
        "id": "KQpsdgY6AyBr"
      }
    },
    {
      "cell_type": "code",
      "source": [
        "# Check null values\n",
        "credit_data.isnull().sum()"
      ],
      "metadata": {
        "execution": {
          "iopub.status.busy": "2023-09-29T06:02:48.664072Z",
          "iopub.execute_input": "2023-09-29T06:02:48.664735Z",
          "iopub.status.idle": "2023-09-29T06:02:48.685121Z",
          "shell.execute_reply.started": "2023-09-29T06:02:48.664680Z",
          "shell.execute_reply": "2023-09-29T06:02:48.684008Z"
        },
        "trusted": true,
        "id": "eoau0413AyBr"
      },
      "execution_count": null,
      "outputs": []
    },
    {
      "cell_type": "markdown",
      "source": [
        "**No Null values present**"
      ],
      "metadata": {
        "id": "9um6e7sQAyBr"
      }
    },
    {
      "cell_type": "code",
      "source": [
        "credit_data.describe()"
      ],
      "metadata": {
        "execution": {
          "iopub.status.busy": "2023-09-29T06:02:48.686746Z",
          "iopub.execute_input": "2023-09-29T06:02:48.687515Z",
          "iopub.status.idle": "2023-09-29T06:02:49.132138Z",
          "shell.execute_reply.started": "2023-09-29T06:02:48.687479Z",
          "shell.execute_reply": "2023-09-29T06:02:49.131010Z"
        },
        "trusted": true,
        "id": "dI0-AJpHAyBr"
      },
      "execution_count": null,
      "outputs": []
    },
    {
      "cell_type": "markdown",
      "source": [
        "# 3. EDA(Exploratory Data Analysis)\n"
      ],
      "metadata": {
        "id": "qbuJcLP-AyBs"
      }
    },
    {
      "cell_type": "code",
      "source": [
        "# Number of columns\n",
        "credit_data.columns"
      ],
      "metadata": {
        "execution": {
          "iopub.status.busy": "2023-09-29T06:02:49.133384Z",
          "iopub.execute_input": "2023-09-29T06:02:49.134208Z",
          "iopub.status.idle": "2023-09-29T06:02:49.141110Z",
          "shell.execute_reply.started": "2023-09-29T06:02:49.134178Z",
          "shell.execute_reply": "2023-09-29T06:02:49.140133Z"
        },
        "trusted": true,
        "id": "cASyaJ2OAyBs"
      },
      "execution_count": null,
      "outputs": []
    },
    {
      "cell_type": "code",
      "source": [
        "# Unique value in class columns\n",
        "credit_data.Class.unique()"
      ],
      "metadata": {
        "execution": {
          "iopub.status.busy": "2023-09-29T06:02:49.142672Z",
          "iopub.execute_input": "2023-09-29T06:02:49.143551Z",
          "iopub.status.idle": "2023-09-29T06:02:49.157999Z",
          "shell.execute_reply.started": "2023-09-29T06:02:49.143511Z",
          "shell.execute_reply": "2023-09-29T06:02:49.156990Z"
        },
        "trusted": true,
        "id": "lpxVFBmpAyBs"
      },
      "execution_count": null,
      "outputs": []
    },
    {
      "cell_type": "markdown",
      "source": [
        "**Class Columns has two values i.e 0 & 1 where 1 is Fraud Case and 0 is Valid case.**"
      ],
      "metadata": {
        "id": "btuAr9YOAyBs"
      }
    },
    {
      "cell_type": "markdown",
      "source": [
        "#### Determine Number of fraud cases in the dataset $${{ No. of Fraud case} \\over {No. of Valid Case}}$$"
      ],
      "metadata": {
        "id": "3keBT6UeAyBs"
      }
    },
    {
      "cell_type": "code",
      "source": [
        "fraud_case = credit_data[credit_data['Class'] == 1]\n",
        "valid_case = credit_data[credit_data['Class'] == 0]\n",
        "\n",
        "print(f\"Number of Fraud Case: {len(fraud_case)}\")\n",
        "print(f\"Number of Valid Case: {len(valid_case)}\")\n",
        "\n",
        "total =  len(fraud_case) / len(valid_case)\n",
        "total"
      ],
      "metadata": {
        "execution": {
          "iopub.status.busy": "2023-09-29T06:02:49.669735Z",
          "iopub.execute_input": "2023-09-29T06:02:49.670085Z",
          "iopub.status.idle": "2023-09-29T06:02:49.711417Z",
          "shell.execute_reply.started": "2023-09-29T06:02:49.670056Z",
          "shell.execute_reply": "2023-09-29T06:02:49.710271Z"
        },
        "trusted": true,
        "id": "KqbJ8LnFAyBt"
      },
      "execution_count": null,
      "outputs": []
    },
    {
      "cell_type": "markdown",
      "source": [
        "#### In precentage $${{No. of fraud case} \\over {total}}*100$$"
      ],
      "metadata": {
        "id": "uxxCeZyDAyBt"
      }
    },
    {
      "cell_type": "code",
      "source": [
        "\n",
        "per = len(fraud_case) / len(credit_data['Class']) * 100\n",
        "per"
      ],
      "metadata": {
        "execution": {
          "iopub.status.busy": "2023-09-29T06:02:50.469734Z",
          "iopub.execute_input": "2023-09-29T06:02:50.470664Z",
          "iopub.status.idle": "2023-09-29T06:02:50.477108Z",
          "shell.execute_reply.started": "2023-09-29T06:02:50.470605Z",
          "shell.execute_reply": "2023-09-29T06:02:50.476368Z"
        },
        "trusted": true,
        "id": "g-yJLdZaAyBt"
      },
      "execution_count": null,
      "outputs": []
    },
    {
      "cell_type": "markdown",
      "source": [
        "**:: Only 0.17% transaction is fraudlent**"
      ],
      "metadata": {
        "id": "1s3XqsLUAyBt"
      }
    },
    {
      "cell_type": "markdown",
      "source": [
        "## Class Distrubtion"
      ],
      "metadata": {
        "id": "36aPVbYxAyBt"
      }
    },
    {
      "cell_type": "code",
      "source": [
        "# Count the number of occurrences for each class (0 for legitimate, 1 for fraudulent)\n",
        "class_counts = credit_data['Class'].value_counts()\n",
        "\n",
        "# Calculate the percentage of fraudulent transactions\n",
        "percentage_fraudulent = (class_counts[1] / class_counts.sum()) * 100\n",
        "\n",
        "plt.figure(figsize=(8, 6))\n",
        "sns.countplot(x='Class', data=credit_data)\n",
        "plt.title('Distribution of Legitimate vs. Fraudulent Transactions')\n",
        "plt.xlabel('Class (0: Legitimate, 1: Fraudulent)')\n",
        "plt.ylabel('Count')\n",
        "\n",
        "# Display the percentage of fraudulent transactions on the plot\n",
        "plt.text(0, class_counts[0] + 1000, f'Percentage of Fraudulent Transactions: {percentage_fraudulent:.2f}%', fontsize=12, ha='center')\n",
        "\n",
        "plt.show()\n"
      ],
      "metadata": {
        "execution": {
          "iopub.status.busy": "2023-09-29T06:16:16.925445Z",
          "iopub.execute_input": "2023-09-29T06:16:16.925832Z",
          "iopub.status.idle": "2023-09-29T06:16:17.208595Z",
          "shell.execute_reply.started": "2023-09-29T06:16:16.925805Z",
          "shell.execute_reply": "2023-09-29T06:16:17.207566Z"
        },
        "trusted": true,
        "id": "pfJp7RW8AyBt"
      },
      "execution_count": null,
      "outputs": []
    },
    {
      "cell_type": "markdown",
      "source": [
        "## Time Analysis"
      ],
      "metadata": {
        "id": "jX14-wajAyBt"
      }
    },
    {
      "cell_type": "code",
      "source": [
        "plt.figure(figsize=(10, 6))\n",
        "sns.histplot(credit_data['Time'], bins=48, kde=True)  # Using 48 bins for a daily view\n",
        "plt.title('Transaction Time Distribution')\n",
        "plt.xlabel('Time (in seconds)')\n",
        "plt.ylabel('Count')\n",
        "\n",
        "# Check if there are specific times of day when fraud is more likely to occur\n",
        "plt.figure(figsize=(10, 6))\n",
        "sns.histplot(credit_data[credit_data['Class'] == 1]['Time'], bins=48, kde=True, color='red', label='Fraudulent')\n",
        "sns.histplot(credit_data[credit_data['Class'] == 0]['Time'], bins=48, kde=True, color='blue', label='Legitimate')\n",
        "plt.title('Fraud vs. Legitimate Transaction Time Distribution')\n",
        "plt.xlabel('Time (in seconds)')\n",
        "plt.ylabel('Count')\n",
        "plt.legend()\n",
        "\n",
        "plt.show()\n"
      ],
      "metadata": {
        "execution": {
          "iopub.status.busy": "2023-09-29T06:20:38.330551Z",
          "iopub.execute_input": "2023-09-29T06:20:38.330945Z",
          "iopub.status.idle": "2023-09-29T06:20:41.479358Z",
          "shell.execute_reply.started": "2023-09-29T06:20:38.330914Z",
          "shell.execute_reply": "2023-09-29T06:20:41.478682Z"
        },
        "trusted": true,
        "id": "Uvuzp0TQAyBt"
      },
      "execution_count": null,
      "outputs": []
    },
    {
      "cell_type": "markdown",
      "source": [
        "## Transaction Amount Analysis"
      ],
      "metadata": {
        "id": "xxfAqa9LAyBt"
      }
    },
    {
      "cell_type": "code",
      "source": [
        "# Calculate summary statistics for both groups\n",
        "legitimate_summary = legitimate_transactions.describe()\n",
        "fraudulent_summary = fraudulent_transactions.describe()\n",
        "\n",
        "print(\"Summary Statistics for Legitimate Transactions:\")\n",
        "print(legitimate_summary)\n",
        "print(\"\\nSummary Statistics for Fraudulent Transactions:\")\n",
        "print(fraudulent_summary)"
      ],
      "metadata": {
        "execution": {
          "iopub.status.busy": "2023-09-29T06:26:44.317501Z",
          "iopub.execute_input": "2023-09-29T06:26:44.318558Z",
          "iopub.status.idle": "2023-09-29T06:26:44.340923Z",
          "shell.execute_reply.started": "2023-09-29T06:26:44.318523Z",
          "shell.execute_reply": "2023-09-29T06:26:44.339772Z"
        },
        "trusted": true,
        "id": "6xRVss9lAyBu"
      },
      "execution_count": null,
      "outputs": []
    },
    {
      "cell_type": "code",
      "source": [
        "# Separate data for legitimate and fraudulent transactions\n",
        "legitimate_transactions = credit_data[credit_data['Class'] == 0]['Amount']\n",
        "fraudulent_transactions = credit_data[credit_data['Class'] == 1]['Amount']\n",
        "\n",
        "plt.figure(figsize=(12, 6))\n",
        "sns.histplot(legitimate_transactions, color='blue', kde=True, label='Legitimate Transactions', bins=50)\n",
        "sns.histplot(fraudulent_transactions, color='red', kde=True, label='Fraudulent Transactions', bins=50)\n",
        "\n",
        "plt.title('Transaction Amount Distribution Comparison')\n",
        "plt.xlabel('Transaction Amount')\n",
        "plt.ylabel('Frequency')\n",
        "plt.legend()\n",
        "\n",
        "plt.show()"
      ],
      "metadata": {
        "execution": {
          "iopub.status.busy": "2023-09-29T06:28:48.950686Z",
          "iopub.execute_input": "2023-09-29T06:28:48.951539Z",
          "iopub.status.idle": "2023-09-29T06:28:50.820656Z",
          "shell.execute_reply.started": "2023-09-29T06:28:48.951501Z",
          "shell.execute_reply": "2023-09-29T06:28:50.819662Z"
        },
        "trusted": true,
        "id": "_qaoxs5DAyBu"
      },
      "execution_count": null,
      "outputs": []
    },
    {
      "cell_type": "markdown",
      "source": [
        "## Feature Correlation"
      ],
      "metadata": {
        "id": "Am_W0x7cAyBu"
      }
    },
    {
      "cell_type": "code",
      "source": [
        "# Calculate the correlation matrix\n",
        "correlation_matrix = credit_data.corr()\n",
        "print(correlation_matrix)\n",
        "\n",
        "# Filter the correlations of features with the target variable ('Class')\n",
        "feature_correlations = correlation_matrix['Class'].drop('Class')\n",
        "print(feature_correlations)\n",
        "\n",
        "correlation_threshold = 0.1\n",
        "\n",
        "highly_correlated_features = feature_correlations[abs(feature_correlations) > correlation_threshold]\n",
        "\n",
        "plt.figure(figsize=(12, 6))\n",
        "sns.barplot(x=highly_correlated_features.index, y=highly_correlated_features.values, palette='viridis')\n",
        "plt.title('Feature Correlations with Fraud (Class)')\n",
        "plt.xlabel('Features')\n",
        "plt.ylabel('Correlation')\n",
        "plt.xticks(rotation=45)\n",
        "\n",
        "plt.show()"
      ],
      "metadata": {
        "execution": {
          "iopub.status.busy": "2023-09-29T06:33:30.900339Z",
          "iopub.execute_input": "2023-09-29T06:33:30.900712Z",
          "iopub.status.idle": "2023-09-29T06:33:32.005993Z",
          "shell.execute_reply.started": "2023-09-29T06:33:30.900681Z",
          "shell.execute_reply": "2023-09-29T06:33:32.005089Z"
        },
        "trusted": true,
        "id": "Ppxzh0bqAyBu"
      },
      "execution_count": null,
      "outputs": []
    },
    {
      "cell_type": "markdown",
      "source": [
        "## Transaction Amount vs. Time:\n",
        "- **Plot a scatter plot to examine the relationship between transaction amount and time.**"
      ],
      "metadata": {
        "id": "H4jh16LKAyBu"
      }
    },
    {
      "cell_type": "code",
      "source": [
        "plt.figure(figsize=(10, 6))\n",
        "plt.scatter(credit_data['Time'], credit_data['Amount'], c=credit_data['Class'], cmap='coolwarm', alpha=0.5)\n",
        "plt.title('Transaction Amount vs. Time')\n",
        "plt.xlabel('Time (seconds)')\n",
        "plt.ylabel('Transaction Amount')\n",
        "plt.colorbar(label='Class (0: Legitimate, 1: Fraudulent)')\n",
        "\n",
        "plt.show()\n"
      ],
      "metadata": {
        "execution": {
          "iopub.status.busy": "2023-09-29T06:36:02.490321Z",
          "iopub.execute_input": "2023-09-29T06:36:02.490952Z",
          "iopub.status.idle": "2023-09-29T06:36:08.212993Z",
          "shell.execute_reply.started": "2023-09-29T06:36:02.490916Z",
          "shell.execute_reply": "2023-09-29T06:36:08.211807Z"
        },
        "trusted": true,
        "id": "7cWspnC-AyBu"
      },
      "execution_count": null,
      "outputs": []
    },
    {
      "cell_type": "markdown",
      "source": [
        "##  Visualize Heatmap for correlation matrix between features."
      ],
      "metadata": {
        "id": "zXBUe74xAyBu"
      }
    },
    {
      "cell_type": "code",
      "source": [
        "correlation_matrix = credit_data.corr()\n",
        "\n",
        "# Create a heatmap\n",
        "plt.figure(figsize=(12, 10))\n",
        "sns.heatmap(correlation_matrix, cmap='coolwarm', annot=False, fmt=\".2f\", linewidths=0.5)\n",
        "plt.title('Correlation Heatmap Between Features')\n",
        "plt.show()"
      ],
      "metadata": {
        "execution": {
          "iopub.status.busy": "2023-09-29T06:39:32.260357Z",
          "iopub.execute_input": "2023-09-29T06:39:32.260706Z",
          "iopub.status.idle": "2023-09-29T06:39:33.842656Z",
          "shell.execute_reply.started": "2023-09-29T06:39:32.260680Z",
          "shell.execute_reply": "2023-09-29T06:39:33.841611Z"
        },
        "trusted": true,
        "id": "cj-fZJOBAyBv"
      },
      "execution_count": null,
      "outputs": []
    },
    {
      "cell_type": "markdown",
      "source": [
        "# 4. Developing Model"
      ],
      "metadata": {
        "id": "XsNR9zk1AyBv"
      }
    },
    {
      "cell_type": "code",
      "source": [
        "# import libraries\n",
        "from sklearn.model_selection import train_test_split\n",
        "from sklearn.ensemble import RandomForestClassifier\n",
        "from sklearn.metrics import (accuracy_score, precision_score, recall_score, f1_score, classification_report, confusion_matrix)"
      ],
      "metadata": {
        "execution": {
          "iopub.status.busy": "2023-09-29T06:49:10.910491Z",
          "iopub.execute_input": "2023-09-29T06:49:10.910878Z",
          "iopub.status.idle": "2023-09-29T06:49:11.468321Z",
          "shell.execute_reply.started": "2023-09-29T06:49:10.910849Z",
          "shell.execute_reply": "2023-09-29T06:49:11.467552Z"
        },
        "trusted": true,
        "id": "l_jvdrr7AyBv"
      },
      "execution_count": null,
      "outputs": []
    },
    {
      "cell_type": "markdown",
      "source": [
        "**Defined X and Y**"
      ],
      "metadata": {
        "id": "EETdG3bcAyBv"
      }
    },
    {
      "cell_type": "code",
      "source": [
        "# Test value\n",
        "X = credit_data.drop(['Class'], axis=1)\n",
        "# Target value\n",
        "Y = credit_data['Class']\n",
        "\n",
        "print(f\"value and shapes : {X.values,X.shape}\")\n",
        "print(f\"value and shapes : {Y.values,Y.shape}\")"
      ],
      "metadata": {
        "execution": {
          "iopub.status.busy": "2023-09-29T06:54:32.010340Z",
          "iopub.execute_input": "2023-09-29T06:54:32.010723Z",
          "iopub.status.idle": "2023-09-29T06:54:32.045007Z",
          "shell.execute_reply.started": "2023-09-29T06:54:32.010692Z",
          "shell.execute_reply": "2023-09-29T06:54:32.043920Z"
        },
        "trusted": true,
        "id": "l7t0KSAEAyBw"
      },
      "execution_count": null,
      "outputs": []
    },
    {
      "cell_type": "markdown",
      "source": [
        "**Spliting the data for training and Testing**|"
      ],
      "metadata": {
        "id": "7HkPNuNVAyBw"
      }
    },
    {
      "cell_type": "code",
      "source": [
        "X_train,X_test, Y_train,Y_test = train_test_split(X,Y,test_size = 0.2, random_state = 42)"
      ],
      "metadata": {
        "execution": {
          "iopub.status.busy": "2023-09-29T07:04:42.861481Z",
          "iopub.execute_input": "2023-09-29T07:04:42.861865Z",
          "iopub.status.idle": "2023-09-29T07:04:42.976381Z",
          "shell.execute_reply.started": "2023-09-29T07:04:42.861839Z",
          "shell.execute_reply": "2023-09-29T07:04:42.975536Z"
        },
        "trusted": true,
        "id": "VG2JbyCpAyBw"
      },
      "execution_count": null,
      "outputs": []
    },
    {
      "cell_type": "code",
      "source": [
        "model = RandomForestClassifier(n_estimators=100, random_state=42)\n",
        "\n",
        "# Train the model on the training data\n",
        "model.fit(X_train,Y_train)\n",
        "\n",
        "# Make predictions on the test data\n",
        "y_pred = model.predict(X_test)"
      ],
      "metadata": {
        "execution": {
          "iopub.status.busy": "2023-09-29T07:15:08.031416Z",
          "iopub.execute_input": "2023-09-29T07:15:08.032220Z",
          "iopub.status.idle": "2023-09-29T07:19:37.964969Z",
          "shell.execute_reply.started": "2023-09-29T07:15:08.032178Z",
          "shell.execute_reply": "2023-09-29T07:19:37.963780Z"
        },
        "trusted": true,
        "id": "XPyXUG8mAyBw"
      },
      "execution_count": null,
      "outputs": []
    },
    {
      "cell_type": "code",
      "source": [
        "print(y_pred)\n",
        "print(Y_test)"
      ],
      "metadata": {
        "execution": {
          "iopub.status.busy": "2023-09-29T07:25:17.155416Z",
          "iopub.execute_input": "2023-09-29T07:25:17.155805Z",
          "iopub.status.idle": "2023-09-29T07:25:17.163253Z",
          "shell.execute_reply.started": "2023-09-29T07:25:17.155775Z",
          "shell.execute_reply": "2023-09-29T07:25:17.162235Z"
        },
        "trusted": true,
        "id": "sbqlc-EWAyBw"
      },
      "execution_count": null,
      "outputs": []
    },
    {
      "cell_type": "markdown",
      "source": [
        "# 6. Model Evaluation"
      ],
      "metadata": {
        "id": "mzTBr_eRAyBw"
      }
    },
    {
      "cell_type": "code",
      "source": [
        "print(\"Confusion Matrix:\\n\", confusion_matrix(Y_test, y_pred))\n",
        "print(\"\\nClassification Report:\\n\", classification_report(Y_test, y_pred))\n",
        "print(\"\\nAccuracy Score:\", accuracy_score(Y_test, y_pred))"
      ],
      "metadata": {
        "execution": {
          "iopub.status.busy": "2023-09-29T07:25:58.299544Z",
          "iopub.execute_input": "2023-09-29T07:25:58.299964Z",
          "iopub.status.idle": "2023-09-29T07:25:58.389472Z",
          "shell.execute_reply.started": "2023-09-29T07:25:58.299934Z",
          "shell.execute_reply": "2023-09-29T07:25:58.388324Z"
        },
        "trusted": true,
        "id": "DgZpm0l_AyBx"
      },
      "execution_count": null,
      "outputs": []
    }
  ]
}