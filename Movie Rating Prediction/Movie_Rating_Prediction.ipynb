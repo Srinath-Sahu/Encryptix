{
  "nbformat": 4,
  "nbformat_minor": 0,
  "metadata": {
    "colab": {
      "provenance": []
    },
    "kernelspec": {
      "name": "python3",
      "display_name": "Python 3"
    },
    "language_info": {
      "name": "python"
    }
  },
  "cells": [
    {
      "cell_type": "markdown",
      "source": [
        "# Task-2 : MOVIE RATING PREDICTION WITH PYTHON\n",
        "**SRINATH SAHU**"
      ],
      "metadata": {
        "id": "_3AsT5GBbdqd"
      }
    },
    {
      "cell_type": "code",
      "execution_count": null,
      "metadata": {
        "id": "wZ5LEe3UGgyJ"
      },
      "outputs": [],
      "source": [
        "# import libaries\n",
        "import pandas as pd\n",
        "import seaborn as sns\n",
        "import matplotlib.pyplot as plt\n",
        "import numpy as np"
      ]
    },
    {
      "cell_type": "markdown",
      "source": [
        "## 1. Cleaning and inputed the data"
      ],
      "metadata": {
        "id": "ywDEwgHogQHH"
      }
    },
    {
      "cell_type": "code",
      "source": [
        "# read the data\n",
        "movie_data = pd.read_csv(\"IMDb Movies India.csv\", encoding=\"latin1\")\n",
        "movie_data"
      ],
      "metadata": {
        "id": "GO7krvk3dJri"
      },
      "execution_count": null,
      "outputs": []
    },
    {
      "cell_type": "code",
      "source": [
        "movie_data.head()"
      ],
      "metadata": {
        "id": "u-3ae-82dS6Q"
      },
      "execution_count": null,
      "outputs": []
    },
    {
      "cell_type": "code",
      "source": [
        "movie_data.info()"
      ],
      "metadata": {
        "id": "IHvH9SWSgB_I"
      },
      "execution_count": null,
      "outputs": []
    },
    {
      "cell_type": "code",
      "source": [
        "movie_data.describe()"
      ],
      "metadata": {
        "id": "dviOI3ePgIvA"
      },
      "execution_count": null,
      "outputs": []
    },
    {
      "cell_type": "markdown",
      "source": [
        "### Data Cleaning"
      ],
      "metadata": {
        "id": "XCUdyE1kggQR"
      }
    },
    {
      "cell_type": "code",
      "source": [
        "# check missing value or NULL values\n",
        "movie_data.isnull().sum()"
      ],
      "metadata": {
        "id": "R31MHxFrgN_f"
      },
      "execution_count": null,
      "outputs": []
    },
    {
      "cell_type": "code",
      "source": [
        "movie_data.dropna(subset=[\"Rating\"], inplace = True)"
      ],
      "metadata": {
        "id": "WrSWV21XZ5QQ"
      },
      "execution_count": null,
      "outputs": []
    },
    {
      "cell_type": "code",
      "source": [
        "movie_data.isnull().sum()"
      ],
      "metadata": {
        "id": "SCmLqNKsaKVg"
      },
      "execution_count": null,
      "outputs": []
    },
    {
      "cell_type": "code",
      "source": [
        "movie_data.dropna(subset=['Actor 1','Actor 2','Actor 3','Director','Genre'],inplace=True)"
      ],
      "metadata": {
        "id": "NXiPaivsaKRC"
      },
      "execution_count": null,
      "outputs": []
    },
    {
      "cell_type": "code",
      "source": [
        "movie_data.isnull().sum()"
      ],
      "metadata": {
        "id": "z4VYoYeRaKKy"
      },
      "execution_count": null,
      "outputs": []
    },
    {
      "cell_type": "code",
      "source": [
        "movie_data.head()"
      ],
      "metadata": {
        "id": "74Tn4-hUbUkQ"
      },
      "execution_count": null,
      "outputs": []
    },
    {
      "cell_type": "markdown",
      "source": [
        "#### convert votes to integer and remove commas and convert year (2019) to 2019 and remove min from duration columns"
      ],
      "metadata": {
        "id": "4QEOm9P6c7Cg"
      }
    },
    {
      "cell_type": "code",
      "source": [
        "# convert votes columns\n",
        "movie_data['Votes'] = movie_data['Votes'].str.replace(',','').astype(int)"
      ],
      "metadata": {
        "id": "8CMJHUn6aKCq"
      },
      "execution_count": null,
      "outputs": []
    },
    {
      "cell_type": "code",
      "source": [
        "# convert year columns\n",
        "movie_data['Year'] = movie_data['Year'].str.strip('()').astype(int)"
      ],
      "metadata": {
        "id": "_bhY4uCFdk4v"
      },
      "execution_count": null,
      "outputs": []
    },
    {
      "cell_type": "code",
      "source": [
        "# convert duration columns\n",
        "movie_data['Duration'] = movie_data['Duration'].str.strip('min')"
      ],
      "metadata": {
        "id": "b-vmhBjdd2mG"
      },
      "execution_count": null,
      "outputs": []
    },
    {
      "cell_type": "code",
      "source": [
        "movie_data['Duration'].fillna(movie_data['Duration'].median(),inplace=True)"
      ],
      "metadata": {
        "id": "EXWMsMPteF8X"
      },
      "execution_count": null,
      "outputs": []
    },
    {
      "cell_type": "code",
      "source": [
        "movie_data.isnull().sum()"
      ],
      "metadata": {
        "id": "zIbk70T6eW73"
      },
      "execution_count": null,
      "outputs": []
    },
    {
      "cell_type": "code",
      "source": [
        "movie_data.info()"
      ],
      "metadata": {
        "id": "FRCXgbkNi28k"
      },
      "execution_count": null,
      "outputs": []
    },
    {
      "cell_type": "code",
      "source": [
        "movie_data.head()"
      ],
      "metadata": {
        "id": "GaPlFGI7kB9r"
      },
      "execution_count": null,
      "outputs": []
    },
    {
      "cell_type": "markdown",
      "source": [
        "### Now data are clean and inputed."
      ],
      "metadata": {
        "id": "NRL1mFHmjifr"
      }
    },
    {
      "cell_type": "markdown",
      "source": [
        "## 2. EDA (Exploratory data Analysis)"
      ],
      "metadata": {
        "id": "OKsn5qPgjpoC"
      }
    },
    {
      "cell_type": "markdown",
      "source": [
        "- **Top 10 Movies**"
      ],
      "metadata": {
        "id": "lEzg9D5akF0o"
      }
    },
    {
      "cell_type": "code",
      "source": [
        "# find top 10 movies based on rating\n",
        "top_movie = movie_data.loc[movie_data['Rating'].sort_values(ascending=False)[:10].index]\n",
        "top_movie"
      ],
      "metadata": {
        "id": "VLmxNS23jfg7"
      },
      "execution_count": null,
      "outputs": []
    },
    {
      "cell_type": "markdown",
      "source": [
        "### Distribution of Top 10 movies wrt Year"
      ],
      "metadata": {
        "id": "7dXizPd12fKw"
      }
    },
    {
      "cell_type": "code",
      "source": [
        "sns.histplot(data=top_movie, x=\"Year\",hue=\"Rating\", multiple=\"stack\")\n",
        "plt.title('Distribution of Top 10 Movies', fontsize=16)\n",
        "plt.xlabel('Year', fontsize=14)\n",
        "plt.ylabel('Rating', fontsize=14)\n",
        "plt.tight_layout()\n",
        "plt.show()"
      ],
      "metadata": {
        "id": "Bah95qiTkmCm"
      },
      "execution_count": null,
      "outputs": []
    },
    {
      "cell_type": "markdown",
      "source": [
        "### Distribution of Genre of movies"
      ],
      "metadata": {
        "id": "9MnFD-Kn2mzF"
      }
    },
    {
      "cell_type": "code",
      "source": [
        "genre_counts = movie_data['Genre'].value_counts().reset_index()\n",
        "genre_counts.columns = ['Genre', 'Count']\n",
        "\n",
        "# Select the top N genres (e.g., top 5)\n",
        "top_n_genres = genre_counts.head(5)\n",
        "top_n_genres"
      ],
      "metadata": {
        "id": "nGCiXi-dnzLs"
      },
      "execution_count": null,
      "outputs": []
    },
    {
      "cell_type": "code",
      "source": [
        "plt.figure(figsize=(4, 4))\n",
        "plt.pie(top_n_genres['Count'], labels=top_n_genres['Genre'], autopct='%1.1f%%', startangle=140, colors=sns.color_palette('pastel'))\n",
        "plt.title('Movie Genre Distribution', fontsize=16)\n",
        "plt.axis('equal')\n",
        "plt.show()"
      ],
      "metadata": {
        "id": "TU4AD_SgrQc3"
      },
      "execution_count": null,
      "outputs": []
    },
    {
      "cell_type": "markdown",
      "source": [
        "## Distribution of Top directors by average rating"
      ],
      "metadata": {
        "id": "-5M4CTm94TXZ"
      }
    },
    {
      "cell_type": "code",
      "source": [
        "# Group the data by director and calculate the average rating\n",
        "director_avg_rating = movie_data.groupby('Director')['Rating'].mean().reset_index()\n",
        "\n",
        "director_avg_rating = director_avg_rating.sort_values(by='Rating', ascending=False)\n",
        "\n",
        "top_directors = director_avg_rating.head(10)\n",
        "top_directors"
      ],
      "metadata": {
        "id": "6JTcwrmLrViP"
      },
      "execution_count": null,
      "outputs": []
    },
    {
      "cell_type": "code",
      "source": [
        "plt.figure(figsize=(12, 6))\n",
        "sns.barplot(data=top_directors, x='Rating', y='Director', palette='viridis')\n",
        "\n",
        "plt.title('Top Directors by Average Rating', fontsize=16)\n",
        "plt.xlabel('Average Rating', fontsize=14)\n",
        "plt.ylabel('Director', fontsize=14)\n",
        "\n",
        "plt.show()"
      ],
      "metadata": {
        "id": "0y3hS5T6tpEG"
      },
      "execution_count": null,
      "outputs": []
    },
    {
      "cell_type": "markdown",
      "source": [
        "## Relationship between the number of votes and movie ratings"
      ],
      "metadata": {
        "id": "PEGa1Vwq5krv"
      }
    },
    {
      "cell_type": "code",
      "source": [
        "plt.figure(figsize=(12, 6))\n",
        "sns.lineplot(data=movie_data, x='Rating', y='Votes')\n",
        "\n",
        "plt.title('Votes vs. Rating', fontsize=16)\n",
        "plt.xlabel('Rating', fontsize=14)\n",
        "plt.ylabel('Votes', fontsize=14)\n",
        "\n",
        "plt.show()"
      ],
      "metadata": {
        "id": "Xx26NTztttDh"
      },
      "execution_count": null,
      "outputs": []
    },
    {
      "cell_type": "markdown",
      "source": [
        "## Distribution of top actors by number of movie"
      ],
      "metadata": {
        "id": "I1i-NyCE6FiH"
      }
    },
    {
      "cell_type": "code",
      "source": [
        "actor_counts = movie_data['Actor 1'].value_counts().reset_index()\n",
        "actor_counts.columns = ['Actor', 'MovieCount']\n",
        "\n",
        "top_n_actors = actor_counts.head(10)\n",
        "top_n_actors"
      ],
      "metadata": {
        "id": "nVSDYsbmuRbr"
      },
      "execution_count": null,
      "outputs": []
    },
    {
      "cell_type": "code",
      "source": [
        "plt.figure(figsize=(12, 6))\n",
        "sns.barplot(data=top_n_actors, x='MovieCount', y='Actor', orient='h')\n",
        "\n",
        "# Set plot labels and title\n",
        "plt.title('Top Actors by Number of Movies', fontsize=16)\n",
        "plt.xlabel('Number of Movies', fontsize=14)\n",
        "plt.ylabel('Actor', fontsize=14)\n",
        "\n",
        "# Show the plot\n",
        "plt.show()"
      ],
      "metadata": {
        "id": "WoYJdym2wZ8Q"
      },
      "execution_count": null,
      "outputs": []
    },
    {
      "cell_type": "markdown",
      "source": [
        "## Distribution of number of movie released every year"
      ],
      "metadata": {
        "id": "EJNKa8xh7NxP"
      }
    },
    {
      "cell_type": "code",
      "source": [
        "yearly_movie_counts = movie_data['Year'].value_counts().reset_index()\n",
        "yearly_movie_counts.columns = ['Year', 'MovieCount']\n",
        "\n",
        "yearly_movie_counts = yearly_movie_counts.sort_values(by='Year')\n",
        "yearly_movie_counts"
      ],
      "metadata": {
        "id": "PbdCqzzzwhou"
      },
      "execution_count": null,
      "outputs": []
    },
    {
      "cell_type": "code",
      "source": [
        "plt.figure(figsize=(12, 6))\n",
        "sns.lineplot(data=yearly_movie_counts, x='Year', y='MovieCount')\n",
        "\n",
        "plt.title('Number of Movies Released Every Year', fontsize=16)\n",
        "plt.xlabel('Year', fontsize=14)\n",
        "plt.ylabel('Number of Movies Released', fontsize=14)\n",
        "\n",
        "plt.show()"
      ],
      "metadata": {
        "id": "yV3JykIwx7H0"
      },
      "execution_count": null,
      "outputs": []
    },
    {
      "cell_type": "markdown",
      "source": [
        "## Distribution of Movies with rating greater than 8 and votes greater than 10000"
      ],
      "metadata": {
        "id": "fJ3I9jRq8FFg"
      }
    },
    {
      "cell_type": "code",
      "source": [
        "filtered_df = movie_data[(movie_data['Rating'] > 8) & (movie_data['Votes'] > 10000)]\n",
        "filtered_df.head(10)"
      ],
      "metadata": {
        "id": "Z4TqqbAkyBUx"
      },
      "execution_count": null,
      "outputs": []
    },
    {
      "cell_type": "code",
      "source": [
        "plt.figure(figsize=(15, 6))\n",
        "ax=sns.barplot(data=filtered_df,x='Name',y='Votes',hue='Rating',dodge=False,width=0.5,palette='muted')\n",
        "\n",
        "ax.set_xticklabels(ax.get_xticklabels(), rotation=90, ha='right')\n",
        "ax.legend(loc='upper right')\n",
        "ax.set_xlabel('Movie Name')\n",
        "ax.set_ylabel('Votes')\n",
        "ax.set_title('Movies with rating greater than 8 and votes greater than 10000')\n",
        "\n",
        "plt.show()"
      ],
      "metadata": {
        "id": "vo3WjwrHyap3"
      },
      "execution_count": null,
      "outputs": []
    },
    {
      "cell_type": "markdown",
      "source": [
        "## Distribution of Durations of movies by years"
      ],
      "metadata": {
        "id": "wrvy1Lu591b_"
      }
    },
    {
      "cell_type": "code",
      "source": [
        "movie_data['Duration'] = movie_data['Duration'].astype(int)\n",
        "movie_data['Year'] = movie_data['Year'].astype(int)\n",
        "\n",
        "\n",
        "plt.figure(figsize=(12, 6))\n",
        "sns.lineplot(data=movie_data,x='Year',y='Duration',errorbar=None)\n",
        "plt.xlabel('Year')\n",
        "plt.ylabel('Duration in minutes')\n",
        "plt.title('Duration of movies by year')\n",
        "plt.xticks(np.arange(1917,2023,5))\n",
        "plt.show()"
      ],
      "metadata": {
        "id": "VdzNh7CeynHt"
      },
      "execution_count": null,
      "outputs": []
    },
    {
      "cell_type": "markdown",
      "source": [
        "## Distribution of Number of movies each genre"
      ],
      "metadata": {
        "id": "zWoM7IVH-Kqd"
      }
    },
    {
      "cell_type": "code",
      "source": [
        "movie_data['Genre'] = movie_data['Genre'].str.split(',')\n",
        "\n",
        "# Create a new DataFrame with one row for each genre\n",
        "genre_df = movie_data.explode('Genre')\n",
        "genre_df"
      ],
      "metadata": {
        "id": "bPkW1DDWz98R"
      },
      "execution_count": null,
      "outputs": []
    },
    {
      "cell_type": "code",
      "source": [
        "\n",
        "plt.figure(figsize=(12, 6))\n",
        "sns.countplot(data=genre_df, x='Genre', order=genre_df['Genre'].value_counts().index, palette='viridis')\n",
        "\n",
        "plt.title('Number of Movies for Each Genre', fontsize=16)\n",
        "plt.xlabel('Number of Movies', fontsize=14)\n",
        "plt.ylabel('Genre', fontsize=14)\n",
        "plt.xticks(rotation=90)\n",
        "\n",
        "plt.show()"
      ],
      "metadata": {
        "id": "DnbZIPDE2vju"
      },
      "execution_count": null,
      "outputs": []
    },
    {
      "cell_type": "markdown",
      "source": [
        "## Distribution of Average rating of movies in each genre"
      ],
      "metadata": {
        "id": "SZdVWdUH_HbR"
      }
    },
    {
      "cell_type": "code",
      "source": [
        "average_rating_by_genre = genre_df.groupby('Genre')['Rating'].mean().reset_index()\n",
        "average_rating_by_genre = average_rating_by_genre.sort_values(by='Rating', ascending=False)"
      ],
      "metadata": {
        "id": "hmn1_DWr3y9q"
      },
      "execution_count": null,
      "outputs": []
    },
    {
      "cell_type": "code",
      "source": [
        "plt.figure(figsize=(15,5))\n",
        "sns.barplot(data=average_rating_by_genre,y=\"Rating\",x='Genre',palette='coolwarm')\n",
        "plt.xlabel('Genre')\n",
        "plt.ylabel('Average Rating')\n",
        "plt.title('Average rating of movies in each genre')\n",
        "plt.xticks(rotation=90)\n",
        "\n",
        "plt.show()"
      ],
      "metadata": {
        "id": "WsmsGtwd2yHz"
      },
      "execution_count": null,
      "outputs": []
    },
    {
      "cell_type": "markdown",
      "source": [
        "## Featured Engineering"
      ],
      "metadata": {
        "id": "pferW4xm5pOM"
      }
    },
    {
      "cell_type": "code",
      "source": [
        "from sklearn.preprocessing import LabelEncoder\n",
        "labelencoder = LabelEncoder()\n",
        "\n",
        "trans_data = movie_data.drop(['Name'],axis=1)\n",
        "# Transform Director columns\n",
        "trans_data['Director'] = labelencoder.fit_transform(movie_data['Director'])\n",
        "\n",
        "# Transform Actors Columns\n",
        "trans_data['Actor 1'] = labelencoder.fit_transform(movie_data['Actor 1'])\n",
        "trans_data['Actor 2'] = labelencoder.fit_transform(movie_data['Actor 2'])\n",
        "trans_data['Actor 3'] = labelencoder.fit_transform(movie_data['Actor 3'])\n",
        "\n",
        "trans_data['Genre'] = labelencoder.fit_transform(movie_data['Genre'].apply(lambda x: ', '.join(x)))\n",
        "\n",
        "trans_data.head()"
      ],
      "metadata": {
        "id": "FdEDPzPV63Hf"
      },
      "execution_count": null,
      "outputs": []
    },
    {
      "cell_type": "code",
      "source": [
        "from sklearn.preprocessing import MinMaxScaler\n",
        "\n",
        "scaler = MinMaxScaler()\n",
        "sc_data = scaler.fit_transform(trans_data)\n",
        "sc_df = pd.DataFrame(sc_data,columns=trans_data.columns)\n",
        "\n",
        "sc_df.head()"
      ],
      "metadata": {
        "id": "I4Y73GBHTBF1"
      },
      "execution_count": null,
      "outputs": []
    },
    {
      "cell_type": "markdown",
      "source": [
        "## Examine Correlation of Data"
      ],
      "metadata": {
        "id": "LFRXlrCcLOiM"
      }
    },
    {
      "cell_type": "code",
      "source": [
        "# correlation\n",
        "corr_df = trans_data.corr(numeric_only=True)\n",
        "corr_df['Rating'].sort_values(ascending=False)"
      ],
      "metadata": {
        "id": "Xb8y_JXL3RBJ"
      },
      "execution_count": null,
      "outputs": []
    },
    {
      "cell_type": "code",
      "source": [
        "sns.heatmap(corr_df,annot=False,cmap=\"coolwarm\")"
      ],
      "metadata": {
        "id": "itqTmSpb57WE"
      },
      "execution_count": null,
      "outputs": []
    },
    {
      "cell_type": "markdown",
      "source": [
        "**Now our transformed columns are much correlated with the target variable so we are ready to go**"
      ],
      "metadata": {
        "id": "8kr5hl1iLbfG"
      }
    },
    {
      "cell_type": "markdown",
      "source": [
        "# Model Building"
      ],
      "metadata": {
        "id": "L9kBlA5HLeCc"
      }
    },
    {
      "cell_type": "code",
      "source": [
        "# Import modeling Libraries\n",
        "from sklearn.model_selection import train_test_split\n",
        "from sklearn.linear_model import LinearRegression\n",
        "from sklearn.tree import DecisionTreeRegressor\n",
        "from sklearn.metrics import mean_squared_error,mean_absolute_error,r2_score"
      ],
      "metadata": {
        "id": "3YQAOVoL6af3"
      },
      "execution_count": null,
      "outputs": []
    },
    {
      "cell_type": "code",
      "source": [
        "# put data except Rating data\n",
        "X = trans_data.drop(['Rating'],axis=1)\n",
        "\n",
        "# Put only Rating data\n",
        "y = trans_data['Rating']\n",
        "\n",
        "X_train,X_test,y_train,y_test = train_test_split(X,y,test_size=0.3,random_state=42)\n",
        "\n",
        "model = LinearRegression()\n",
        "model.fit(X_train,y_train)"
      ],
      "metadata": {
        "id": "IxqBTgQLLrwc"
      },
      "execution_count": null,
      "outputs": []
    },
    {
      "cell_type": "code",
      "source": [
        "X_test = np.array(X_test)"
      ],
      "metadata": {
        "id": "tCjfBC62NvoE"
      },
      "execution_count": null,
      "outputs": []
    },
    {
      "cell_type": "code",
      "source": [
        "y_pred = model.predict(X_test)\n",
        "y_pred"
      ],
      "metadata": {
        "id": "6GTP7arkOG8z"
      },
      "execution_count": null,
      "outputs": []
    },
    {
      "cell_type": "code",
      "source": [
        "print('R2 score: ',r2_score(y_test,y_pred))\n",
        "print('Mean squared error: ',mean_squared_error(y_test,y_pred))\n",
        "print('Mean absolute error: ',mean_absolute_error(y_test,y_pred))"
      ],
      "metadata": {
        "id": "eQDsdO3MQzVt"
      },
      "execution_count": null,
      "outputs": []
    },
    {
      "cell_type": "code",
      "source": [
        "print(y_test)"
      ],
      "metadata": {
        "id": "HrB6Jk9iPYJ7"
      },
      "execution_count": null,
      "outputs": []
    },
    {
      "cell_type": "code",
      "source": [],
      "metadata": {
        "id": "2372ozAKPjGT"
      },
      "execution_count": null,
      "outputs": []
    }
  ]
}